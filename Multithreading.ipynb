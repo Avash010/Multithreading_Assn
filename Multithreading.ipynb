{
 "cells": [
  {
   "cell_type": "markdown",
   "id": "de619a2a-301e-4ba0-ba2e-6cd6b40ea419",
   "metadata": {},
   "source": [
    "## Q1. What is multithreading in python? Why is it used? Name the module used to handle threads in python."
   ]
  },
  {
   "cell_type": "code",
   "execution_count": 1,
   "id": "8b665933-10be-46b8-b2a2-1ab1bc2456fc",
   "metadata": {},
   "outputs": [],
   "source": [
    "# Multithreading in Python refers to execution of multiple threads within a single process.\n",
    "# Python provides a built-in module called 'threading' to handle threads.\n",
    "\n",
    "# Multithreading is used for various reasons such as:\n",
    "#(a) It enables parallel execution of tasks, which can lead to improved performance and reduced execution time.\n",
    "#(b) Multithreading is commonly used to perform asynchronous operations.\n",
    "#(c) Multithreading is useful for executing background tasks that should not block the main execution flow.\n",
    "#(d) Multithreading used for efficient resource sharing.\n",
    "\n",
    "# The module used to handle threads in Python is called 'threading'."
   ]
  },
  {
   "cell_type": "markdown",
   "id": "396ddeae-1f8e-49cb-b2b7-f27fcaae7dee",
   "metadata": {},
   "source": [
    "## Q2. Why threading module used? Write the use of the following functions:\n",
    "\n",
    "# (a) activeCount()\n",
    "# (b) currentThread()\n",
    "# (c) enumerate()"
   ]
  },
  {
   "cell_type": "code",
   "execution_count": 1,
   "id": "a7e7cffa-ac75-414e-942e-850a5a9500de",
   "metadata": {},
   "outputs": [],
   "source": [
    "# The threading module is used to create and manage threads within a program.\n",
    "\n",
    "#(a) The activeCount() function is used to return the number of threads that are currently running, including the main thread.\n",
    "\n",
    "#(b) The currentThread() function is used to access or manipulate properties of the current thread, such as its name,id etc.\n",
    "\n",
    "#(c) The enumerate() function returns a list of all thread objects which is used for monitoring or managing threads."
   ]
  },
  {
   "cell_type": "markdown",
   "id": "8dc1c017-575a-4a36-a434-959c39af6d96",
   "metadata": {},
   "source": [
    "## Q3.  Explain the following functions:\n",
    "# (a) run()\n",
    "# (b) start()\n",
    "# (c) join()\n",
    "# (d) isAlive()"
   ]
  },
  {
   "cell_type": "code",
   "execution_count": 1,
   "id": "1df3fb8a-e796-4094-8c26-92b72148fe97",
   "metadata": {},
   "outputs": [],
   "source": [
    "#(a)  The run() function is executed when a thread is started.\n",
    "# When a thread is created, the run() method is defined within the thread class or provided as an argument to the thread constructor. "
   ]
  },
  {
   "cell_type": "code",
   "execution_count": 2,
   "id": "21c35614-cd83-4de8-9131-883387ab2439",
   "metadata": {},
   "outputs": [],
   "source": [
    "#(b) The start() function is used to start a thread's execution. It initializes the thread and calls its run() method.\n",
    "# It allows multiple threads to execute concurrently and independently."
   ]
  },
  {
   "cell_type": "code",
   "execution_count": 3,
   "id": "06561de4-725d-4198-9570-f0a30b37495f",
   "metadata": {},
   "outputs": [],
   "source": [
    "#(c) The join() function is used to wait for a thread to finish its execution.\n",
    "# This is useful when the main thread needs to wait for a secondary thread to complete its task before continuing."
   ]
  },
  {
   "cell_type": "code",
   "execution_count": 4,
   "id": "b84a9a9e-b6ee-4ad3-b419-3fdbcaf1df8b",
   "metadata": {},
   "outputs": [],
   "source": [
    "#(d) The isAlive() function is used to check if a thread is currently running or active.\n",
    "# It returns a boolean value i.e. True means thread is still running & False means thread has completed its execution or has not yet started"
   ]
  },
  {
   "cell_type": "markdown",
   "id": "b9d273c7-6217-403b-9a5b-bbdbf76c7c0c",
   "metadata": {},
   "source": [
    "## Q4. Write a python program to create two threads. Thread one must print the list of squares and thread two must print the list of cubes."
   ]
  },
  {
   "cell_type": "code",
   "execution_count": 1,
   "id": "fffed34a-985b-4217-a343-6030dfb1acd9",
   "metadata": {},
   "outputs": [
    {
     "name": "stdout",
     "output_type": "stream",
     "text": [
      "Square: 1\n",
      "Square: 4\n",
      "Square: 9\n",
      "Square: 16\n",
      "Cube: 1\n",
      "Cube: 8\n",
      "Cube: 27\n",
      "Cube: 64\n"
     ]
    }
   ],
   "source": [
    "import threading\n",
    "\n",
    "def squares_list(list):\n",
    "    for i in list:\n",
    "        sqr = i * i\n",
    "        print(f\"Square: {sqr}\")\n",
    "\n",
    "def cubes_list(list):\n",
    "    for i in list:\n",
    "        cb = i * i * i\n",
    "        print(f\"Cube: {cb}\")\n",
    "\n",
    "def main():\n",
    "    list = [1,2,3,4]\n",
    "\n",
    "    thread_one = threading.Thread(target=squares_list, args=(list,))\n",
    "    thread_one.start()\n",
    "\n",
    "    thread_two = threading.Thread(target=cubes_list, args=(list,))\n",
    "    thread_two.start()\n",
    "\n",
    "    thread_one.join()\n",
    "    thread_two.join()\n",
    "\n",
    "if __name__ == '__main__':\n",
    "    main()"
   ]
  },
  {
   "cell_type": "markdown",
   "id": "dcf8e286-fdbb-4a7e-9502-c3c59c2baf33",
   "metadata": {},
   "source": [
    "## Q5. State advantages and disadvantages of multithreading."
   ]
  },
  {
   "cell_type": "code",
   "execution_count": 1,
   "id": "998e3c56-3e32-439c-abf4-a4abed1f4f41",
   "metadata": {},
   "outputs": [],
   "source": [
    "# The followings are the advantages of multithreading:\n",
    "#(a) Multithreading allows the program to remain interactive and responsive even when performing time-consuming tasks in the background.\n",
    "#(b) It allows different parts of a program to run simultaneously on different threads, taking advantage of multiple CPU cores or processors.\n",
    "#(c) Multithreading used for efficient resource sharing.\n",
    "#(d) It allows applications to scale and handle larger workloads more effectively."
   ]
  },
  {
   "cell_type": "code",
   "execution_count": 2,
   "id": "aa29aa9b-3686-4da4-af06-af7d91da7606",
   "metadata": {},
   "outputs": [],
   "source": [
    "# The followings are the disadvantages of multithreading:\n",
    "#(a) Multithreaded programs can be more challenging to design,implement and debug compared to single-threaded programs.\n",
    "#(b) Creating and managing multiple threads can increase resource consumption.\n",
    "#(c) When multiple threads access and modify shared data concurrently, it can lead to thread interference issues like data corruption.\n",
    "#(d) Detecting and resolving issues in multithreaded programs can be more difficult than in single-threaded ones."
   ]
  },
  {
   "cell_type": "markdown",
   "id": "deadb1e3-34bf-4df9-9e6e-c21b6e87f118",
   "metadata": {},
   "source": [
    "## Q6. Explain deadlocks and race conditions."
   ]
  },
  {
   "cell_type": "code",
   "execution_count": 1,
   "id": "e73bc6a4-9184-4e21-9bcf-1200d4b8c6e3",
   "metadata": {},
   "outputs": [],
   "source": [
    "# A deadlock occurs when two or more processes are unable to proceed because each is waiting for a resource that is held by another process in the same set.\n",
    "# Deadlocks typically occurs when:\n",
    "#(a) only one process can use it at a time\n",
    "#(b) when a set of processes is waiting for each other in a circular chain.\n",
    "#(c) when a process must be holding at least one resource while waiting to acquire additional resources.\n",
    "# The system ensures Deadlock prevention by eliminating the above possibility."
   ]
  },
  {
   "cell_type": "code",
   "execution_count": 2,
   "id": "8ad1f0bc-1add-456d-851e-6fabc17ac11d",
   "metadata": {},
   "outputs": [],
   "source": [
    "# A race condition occurs when two or more threads access a shared resource simultaneously & the final outcome depends on the order in which the threads are scheduled to execute.\n",
    "# It can lead to unexpected results because of interference of thread with each other, producing inconsistent or incorrect output.\n",
    "# Race conditions can be avoided by:\n",
    "#(a) by acquiring lock so only one thread can access the shared resource at a time.\n",
    "#(b) by allowing a specified number of threads to access the resource simultaneously."
   ]
  }
 ],
 "metadata": {
  "kernelspec": {
   "display_name": "Python 3 (ipykernel)",
   "language": "python",
   "name": "python3"
  },
  "language_info": {
   "codemirror_mode": {
    "name": "ipython",
    "version": 3
   },
   "file_extension": ".py",
   "mimetype": "text/x-python",
   "name": "python",
   "nbconvert_exporter": "python",
   "pygments_lexer": "ipython3",
   "version": "3.10.8"
  }
 },
 "nbformat": 4,
 "nbformat_minor": 5
}
